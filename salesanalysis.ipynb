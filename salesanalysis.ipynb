{
 "cells": [
  {
   "cell_type": "markdown",
   "id": "e71bedc9",
   "metadata": {},
   "source": [
    " Sales Data Analysis with Pandas\n",
    "\n",
    "\n",
    "1. Import required libraries"
   ]
  },
  {
   "cell_type": "code",
   "execution_count": 14,
   "id": "e77b43ff",
   "metadata": {},
   "outputs": [],
   "source": [
    "import pandas as pd\n",
    "import matplotlib.pyplot as plt"
   ]
  },
  {
   "cell_type": "markdown",
   "id": "f300c022",
   "metadata": {},
   "source": [
    "2. Load the CSV file"
   ]
  },
  {
   "cell_type": "code",
   "execution_count": 15,
   "id": "4b38e569",
   "metadata": {},
   "outputs": [],
   "source": [
    "df = pd.read_csv('salesdata.csv')"
   ]
  },
  {
   "cell_type": "markdown",
   "id": "80a8aea5",
   "metadata": {},
   "source": [
    "3. Display the first few rows"
   ]
  },
  {
   "cell_type": "code",
   "execution_count": 16,
   "id": "c159291f",
   "metadata": {},
   "outputs": [
    {
     "name": "stdout",
     "output_type": "stream",
     "text": [
      "Preview of the data:\n"
     ]
    },
    {
     "data": {
      "text/html": [
       "<div>\n",
       "<style scoped>\n",
       "    .dataframe tbody tr th:only-of-type {\n",
       "        vertical-align: middle;\n",
       "    }\n",
       "\n",
       "    .dataframe tbody tr th {\n",
       "        vertical-align: top;\n",
       "    }\n",
       "\n",
       "    .dataframe thead th {\n",
       "        text-align: right;\n",
       "    }\n",
       "</style>\n",
       "<table border=\"1\" class=\"dataframe\">\n",
       "  <thead>\n",
       "    <tr style=\"text-align: right;\">\n",
       "      <th></th>\n",
       "      <th>Date</th>\n",
       "      <th>Product</th>\n",
       "      <th>Region</th>\n",
       "      <th>Quantity</th>\n",
       "      <th>Price</th>\n",
       "    </tr>\n",
       "  </thead>\n",
       "  <tbody>\n",
       "    <tr>\n",
       "      <th>0</th>\n",
       "      <td>2025-08-01</td>\n",
       "      <td>Notebook</td>\n",
       "      <td>North</td>\n",
       "      <td>20</td>\n",
       "      <td>15.5</td>\n",
       "    </tr>\n",
       "    <tr>\n",
       "      <th>1</th>\n",
       "      <td>2025-08-01</td>\n",
       "      <td>Pencil</td>\n",
       "      <td>South</td>\n",
       "      <td>50</td>\n",
       "      <td>2.0</td>\n",
       "    </tr>\n",
       "    <tr>\n",
       "      <th>2</th>\n",
       "      <td>2025-08-02</td>\n",
       "      <td>Eraser</td>\n",
       "      <td>East</td>\n",
       "      <td>30</td>\n",
       "      <td>1.0</td>\n",
       "    </tr>\n",
       "    <tr>\n",
       "      <th>3</th>\n",
       "      <td>2025-08-02</td>\n",
       "      <td>Notebook</td>\n",
       "      <td>West</td>\n",
       "      <td>10</td>\n",
       "      <td>15.5</td>\n",
       "    </tr>\n",
       "    <tr>\n",
       "      <th>4</th>\n",
       "      <td>2025-08-03</td>\n",
       "      <td>Pen</td>\n",
       "      <td>North</td>\n",
       "      <td>40</td>\n",
       "      <td>5.0</td>\n",
       "    </tr>\n",
       "  </tbody>\n",
       "</table>\n",
       "</div>"
      ],
      "text/plain": [
       "         Date   Product Region  Quantity  Price\n",
       "0  2025-08-01  Notebook  North        20   15.5\n",
       "1  2025-08-01    Pencil  South        50    2.0\n",
       "2  2025-08-02    Eraser   East        30    1.0\n",
       "3  2025-08-02  Notebook   West        10   15.5\n",
       "4  2025-08-03       Pen  North        40    5.0"
      ]
     },
     "metadata": {},
     "output_type": "display_data"
    }
   ],
   "source": [
    "print(\"Preview of the data:\")\n",
    "display(df.head())"
   ]
  },
  {
   "cell_type": "markdown",
   "id": "ed148a67",
   "metadata": {},
   "source": [
    "4. Create a new column for Revenue"
   ]
  },
  {
   "cell_type": "code",
   "execution_count": 17,
   "id": "1c41cb15",
   "metadata": {},
   "outputs": [],
   "source": [
    "df['Revenue'] = df['Quantity'] * df['Price']"
   ]
  },
  {
   "cell_type": "markdown",
   "id": "8c695072",
   "metadata": {},
   "source": [
    "5. Total Revenue"
   ]
  },
  {
   "cell_type": "code",
   "execution_count": 18,
   "id": "86a99574",
   "metadata": {},
   "outputs": [
    {
     "name": "stdout",
     "output_type": "stream",
     "text": [
      "Total Revenue: $1362.50\n"
     ]
    }
   ],
   "source": [
    "total_revenue = df['Revenue'].sum()\n",
    "print(f\"Total Revenue: ${total_revenue:.2f}\")"
   ]
  },
  {
   "cell_type": "markdown",
   "id": "e65d73bf",
   "metadata": {},
   "source": [
    "6. Group by Product"
   ]
  },
  {
   "cell_type": "code",
   "execution_count": 19,
   "id": "c2f83d35",
   "metadata": {},
   "outputs": [
    {
     "name": "stdout",
     "output_type": "stream",
     "text": [
      "Revenue by Product:\n"
     ]
    },
    {
     "data": {
      "text/plain": [
       "Product\n",
       "Notebook    697.5\n",
       "Pencil      310.0\n",
       "Pen         300.0\n",
       "Eraser       55.0\n",
       "Name: Revenue, dtype: float64"
      ]
     },
     "metadata": {},
     "output_type": "display_data"
    }
   ],
   "source": [
    "product_sales = df.groupby('Product')['Revenue'].sum().sort_values(ascending=False)\n",
    "print(\"Revenue by Product:\")\n",
    "display(product_sales)"
   ]
  },
  {
   "cell_type": "markdown",
   "id": "b38d9c64",
   "metadata": {},
   "source": [
    "7. Group by Region"
   ]
  },
  {
   "cell_type": "code",
   "execution_count": 20,
   "id": "a9fc1b41",
   "metadata": {},
   "outputs": [
    {
     "name": "stdout",
     "output_type": "stream",
     "text": [
      "Revenue by Region:\n"
     ]
    },
    {
     "data": {
      "text/plain": [
       "Region\n",
       "North    535.0\n",
       "South    422.5\n",
       "West     255.0\n",
       "East     150.0\n",
       "Name: Revenue, dtype: float64"
      ]
     },
     "metadata": {},
     "output_type": "display_data"
    }
   ],
   "source": [
    "region_sales = df.groupby('Region')['Revenue'].sum().sort_values(ascending=False)\n",
    "print(\"Revenue by Region:\")\n",
    "display(region_sales)"
   ]
  },
  {
   "cell_type": "markdown",
   "id": "97017c6d",
   "metadata": {},
   "source": [
    "8. Plot: Product-wise Revenue"
   ]
  },
  {
   "cell_type": "code",
   "execution_count": 21,
   "id": "42d4d5d3",
   "metadata": {},
   "outputs": [
    {
     "data": {
      "image/png": "[encoded data removed]",
      "text/plain": [
       "<Figure size 800x500 with 1 Axes>"
      ]
     },
     "metadata": {},
     "output_type": "display_data"
    }
   ],
   "source": [
    "plt.figure(figsize=(8,5))\n",
    "product_sales.plot(kind='bar', title='Sales Revenue by Product', ylabel='Revenue ($)', xlabel='Product')\n",
    "plt.tight_layout()\n",
    "plt.grid(True)\n",
    "plt.show()"
   ]
  },
  {
   "cell_type": "markdown",
   "id": "f1d2fda2",
   "metadata": {},
   "source": [
    "9. Plot: Region-wise Revenue"
   ]
  },
  {
   "cell_type": "code",
   "execution_count": 22,
   "id": "9c79d9b9",
   "metadata": {},
   "outputs": [
    {
     "data": {
      "image/png": "[encoded data removed]",
      "text/plain": [
       "<Figure size 600x600 with 1 Axes>"
      ]
     },
     "metadata": {},
     "output_type": "display_data"
    }
   ],
   "source": [
    "plt.figure(figsize=(6,6))\n",
    "region_sales.plot(kind='pie', autopct='%1.1f%%', title='Sales by Region')\n",
    "plt.ylabel('')\n",
    "plt.tight_layout()\n",
    "plt.show()"
   ]
  }
 ],
 "metadata": {
  "kernelspec": {
   "display_name": ".venv",
   "language": "python",
   "name": "python3"
  },
  "language_info": {
   "codemirror_mode": {
    "name": "ipython",
    "version": 3
   },
   "file_extension": ".py",
   "mimetype": "text/x-python",
   "name": "python",
   "nbconvert_exporter": "python",
   "pygments_lexer": "ipython3",
   "version": "3.11.4"
  }
 },
 "nbformat": 4,
 "nbformat_minor": 5
}
